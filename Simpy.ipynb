{
  "nbformat": 4,
  "nbformat_minor": 0,
  "metadata": {
    "colab": {
      "provenance": [],
      "authorship_tag": "ABX9TyNc9msisTcqJaXEeEOGNFKq",
      "include_colab_link": true
    },
    "kernelspec": {
      "name": "python3",
      "display_name": "Python 3"
    },
    "language_info": {
      "name": "python"
    }
  },
  "cells": [
    {
      "cell_type": "markdown",
      "metadata": {
        "id": "view-in-github",
        "colab_type": "text"
      },
      "source": [
        "<a href=\"https://colab.research.google.com/github/arvindharul/simulation/blob/main/Simpy.ipynb\" target=\"_parent\"><img src=\"https://colab.research.google.com/assets/colab-badge.svg\" alt=\"Open In Colab\"/></a>"
      ]
    },
    {
      "cell_type": "code",
      "execution_count": null,
      "metadata": {
        "colab": {
          "base_uri": "https://localhost:8080/"
        },
        "id": "NVdAF_Wd-lE2",
        "outputId": "d440fc38-a821-4c28-9929-7c1c0d17e934"
      },
      "outputs": [
        {
          "output_type": "stream",
          "name": "stdout",
          "text": [
            "Looking in indexes: https://pypi.org/simple, https://us-python.pkg.dev/colab-wheels/public/simple/\n",
            "Collecting simpy\n",
            "  Downloading simpy-4.0.1-py2.py3-none-any.whl (29 kB)\n",
            "Installing collected packages: simpy\n",
            "Successfully installed simpy-4.0.1\n"
          ]
        }
      ],
      "source": [
        "pip install simpy"
      ]
    },
    {
      "cell_type": "markdown",
      "source": [
        "How changing the number of bank servers or tellers might affect the waiting time for customers?\n",
        "\n",
        "Processes --> Customers\n",
        "\n",
        "Resources ---> Teller"
      ],
      "metadata": {
        "id": "SD2gsNa4-w8y"
      }
    },
    {
      "cell_type": "code",
      "source": [
        "import simpy\n",
        "import numpy as np"
      ],
      "metadata": {
        "id": "Je93hIfq_MBa"
      },
      "execution_count": null,
      "outputs": []
    },
    {
      "cell_type": "code",
      "source": [
        "#This tells simpy to create an environment object named env \n",
        "# that will manage the simulation time and move the simulation through each subsequent time step.\n",
        "env = simpy.Environment()"
      ],
      "metadata": {
        "id": "IxHB6BMIATqX"
      },
      "execution_count": null,
      "outputs": []
    },
    {
      "cell_type": "markdown",
      "source": [
        "Once you have your environment established, you’ll pass in all of the variables that will act as your parameters. These are the things you can vary to see how the system will react to changes. For this security checkpoint system, you’re using the following parameters:\n",
        "\n",
        "\n",
        "1.  **env**: the environment object to schedule and process events\n",
        "2.**num_booths**: the number of ID check booths\n",
        "3. **check_time**: the length of time it takes to check a passenger’s ID\n",
        "4. **passenger_arrival**: the rate at which passengers arrive at the queue\n"
      ],
      "metadata": {
        "id": "Te3l8ctPDqLX"
      }
    },
    {
      "cell_type": "code",
      "source": [
        "# Assume you've defined checkpoint_run() beforehand\n",
        "env.process(checkpoint_run(env, num_booths, check_time, passenger_arrival))\n",
        "\n",
        "# The simulation runs in minutes, so this sample code will run the simulation for 10 real-time minutes.\n",
        "env.run(until=10)"
      ],
      "metadata": {
        "id": "mLAUMZkDDY7-"
      },
      "execution_count": null,
      "outputs": []
    },
    {
      "cell_type": "markdown",
      "source": [
        "The goal is to find the optimal number of employees that gives an average wait time of less than 10 minutes"
      ],
      "metadata": {
        "id": "W7fsGWNBJjEP"
      }
    },
    {
      "cell_type": "code",
      "source": [
        "import simpy\n",
        "import random\n",
        "import statistics\n",
        "import numpy as np"
      ],
      "metadata": {
        "id": "v6y3X9vkHOzs"
      },
      "execution_count": null,
      "outputs": []
    },
    {
      "cell_type": "markdown",
      "source": [
        "**Cashiers** are a **resource** that the theater makes available to its customers, and they help moviegoers through the **process of purchasing a ticket**. \n",
        "\n",
        "\n",
        "Other Resources \n",
        "1. Ushers to check tickets (3 seconds)\n",
        "2. Servers to sell food (1 to 5 minutes)"
      ],
      "metadata": {
        "id": "hG6Cy4meKM5G"
      }
    },
    {
      "cell_type": "code",
      "source": [
        "\n",
        "class Theater(object):\n",
        "  def __init__(self,env,num_cashiers,num_servers,num_ushers):\n",
        "    self.env = env\n",
        "    self.cashier = simpy.Resource(env,num_cashiers)\n",
        "    self.server = simpy.Resource(env,num_servers)\n",
        "    self.usher = simpy.Resource(env,num_ushers)\n",
        "\n",
        "  def purchase_ticket(self,moviegoer):\n",
        "    #It takes roughtly 1 to 2 minutes for the cashier to issue a ticket\n",
        "    yield self.env.timeout(random.randint(1,3))\n",
        "  \n",
        "  def check_ticket(self,moviegoer):\n",
        "    yield self.env.timeout(3/60)\n",
        "  \n",
        "  def sell_food(self, moviegoer):\n",
        "    yield self.env.timeout(random.randint(1,5))\n",
        "\n",
        "\n"
      ],
      "metadata": {
        "id": "n94sM4fyJsJT"
      },
      "execution_count": null,
      "outputs": []
    },
    {
      "cell_type": "markdown",
      "source": [
        "Now you need a moviegoer to use them. When a moviegoer arrives at the theater, they’ll request a resource, wait for its process to complete, and then leave. You’ll create a function, called go_to_movies(), to keep track of this:"
      ],
      "metadata": {
        "id": "u-RUhGKOMbdE"
      }
    },
    {
      "cell_type": "code",
      "source": [
        "def go_to_movies(env,moviegoer,theater):\n",
        "  arrival_time = env.now\n",
        "\n",
        "  \n",
        "  with theater.cashier.request() as request:\n",
        "        #Requests and waits for cashier to be available\n",
        "        yield request\n",
        "        #When available initiate purchase process\n",
        "        yield env.process(theater.purchase_ticket(moviegoer))\n",
        "  \n",
        "  with theater.usher.request() as request:\n",
        "        yield request\n",
        "        yield env.process(theater.check_ticket(moviegoer))\n",
        "  \n",
        "  #optional step of buying food from the concession stand\n",
        "  if random.choice([True, False]):\n",
        "        with theater.server.request() as request:\n",
        "            yield request\n",
        "            yield env.process(theater.sell_food(moviegoer))\n",
        "          \n",
        "  \n",
        "  # Moviegoer heads into the theater\n",
        "  wait_times.append(env.now - arrival_time)"
      ],
      "metadata": {
        "id": "Ed-9UrUbMOGT"
      },
      "execution_count": null,
      "outputs": []
    },
    {
      "cell_type": "markdown",
      "source": [
        "Now you’ll need to define a function to run the simulation. \n",
        "\n",
        "run_theater() will be responsible for creating an instance of a theater and generating moviegoers until the simulation stops. The first thing this function should do is create an instance of a theater:\n",
        "\n"
      ],
      "metadata": {
        "id": "7ioxFTEBOJP5"
      }
    },
    {
      "cell_type": "code",
      "source": [
        "# the simulation will generate 3 moviegoers to start and begin moving them through the theater with go_to_movies(). \n",
        "# After that, new moviegoers will arrive at the theater with an interval of 12 seconds and \n",
        "# move through the theater in their own time.\n",
        "\n",
        "def run_theater(env, num_cashiers, num_servers, num_ushers):\n",
        "    theater = Theater(env, num_cashiers, num_servers, num_ushers)\n",
        "\n",
        "    #Intially we will have 3 people waiting when we open\n",
        "    for moviegoer in range(3):\n",
        "        env.process(go_to_movies(env, moviegoer, theater))\n",
        "    \n",
        "    #On an average we might get a person every 20 seconds\n",
        "    while True:\n",
        "        yield env.timeout(0.20)  # Wait a bit before generating a new person\n",
        "\n",
        "        moviegoer += 1\n",
        "        env.process(go_to_movies(env, moviegoer, theater))"
      ],
      "metadata": {
        "id": "Y7pijly6OBFu"
      },
      "execution_count": null,
      "outputs": []
    },
    {
      "cell_type": "code",
      "source": [
        "def get_average_wait_time(wait_times):\n",
        "    average_wait = statistics.mean(wait_times)"
      ],
      "metadata": {
        "id": "ZdTm02ZsTutz"
      },
      "execution_count": null,
      "outputs": []
    },
    {
      "cell_type": "code",
      "source": [
        "# This list will contain the total amount of time each\n",
        "# moviegoer spends moving through the theater, from arrival to sitting in their seat.\n",
        "wait_times = []\n",
        "num_cashiers=11\n",
        "num_servers=4\n",
        "num_ushers=1\n",
        "env = simpy.Environment()\n",
        "env.process(run_theater(env, num_cashiers, num_servers, num_ushers))\n",
        "env.run(until=90)\n",
        "\n",
        "print(np.mean(wait_times))\n"
      ],
      "metadata": {
        "colab": {
          "base_uri": "https://localhost:8080/"
        },
        "id": "sPCubsGzOWYI",
        "outputId": "0584b5e7-3ddb-4cde-cac4-885baab4e9db"
      },
      "execution_count": null,
      "outputs": [
        {
          "output_type": "stream",
          "name": "stdout",
          "text": [
            "10.752727272727274\n"
          ]
        }
      ]
    },
    {
      "cell_type": "code",
      "source": [],
      "metadata": {
        "id": "tJCI6_NET7zl"
      },
      "execution_count": null,
      "outputs": []
    }
  ]
}